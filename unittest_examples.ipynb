{
 "metadata": {
  "name": "unittest_examples"
 },
 "nbformat": 3,
 "nbformat_minor": 0,
 "worksheets": [
  {
   "cells": [
    {
     "cell_type": "markdown",
     "metadata": {},
     "source": [
      "Example code for writing unit tests\n",
      "===================================\n",
      "\n",
      "This is a basic example of a unit and then a number of minor variants."
     ]
    },
    {
     "cell_type": "markdown",
     "metadata": {},
     "source": [
      "The main example\n",
      "----------------\n",
      "\n",
      "We will test a function that caluculates the GC-content of a DNA sequence.\n",
      "The GC-content is simply the percentage of bases in the DNA sequence that\n",
      "are either G's or C's. So, for example, the GC-content of 'ATTGC' is 40%.\n",
      "\n",
      "The function we are testing is ``get_gc_content()`` and it takes a single\n",
      "argument, which is a string represting a sequence. This function is in\n",
      "a custom module called ``dna_analysis.py``.\n",
      "\n",
      "### Create the ``dna_analysis`` module"
     ]
    },
    {
     "cell_type": "code",
     "collapsed": false,
     "input": [
      "%%file dna_analysis.py\n",
      "\n",
      "\"\"\"Code for analyzing DNA sequences\"\"\"\n",
      "\n",
      "from __future__ import division\n",
      "\n",
      "def get_gc_content(seq):\n",
      "    \"\"\"Determine the GC content of a sequence\"\"\"\n",
      "    seq = seq.replace('\\n', '').replace(' ', '').upper()\n",
      "    gc_content = 100 * (seq.count('G') + seq.count('C')) / len(seq)\n",
      "    return gc_content"
     ],
     "language": "python",
     "metadata": {},
     "outputs": [
      {
       "output_type": "stream",
       "stream": "stdout",
       "text": [
        "Overwriting dna_analysis.py\n"
       ]
      }
     ],
     "prompt_number": 1
    },
    {
     "cell_type": "markdown",
     "metadata": {},
     "source": [
      "### Create the test module\n",
      "1. To use nosetests we need to actually save the code to a Python file starting with the word *test*\n",
      "2. We then need to import the function(s) we are going to test\n",
      "3. Then we right a simple function (whose name starts with *test*) that calls the function and\n",
      "checks to see if it returns the right value"
     ]
    },
    {
     "cell_type": "code",
     "collapsed": false,
     "input": [
      "%%file test_dna.py\n",
      "\n",
      "from dna_analysis import get_gc_content\n",
      "\n",
      "def test_get_gc_content_zero():\n",
      "    assert get_gc_content('ATTATTAAA') == 0"
     ],
     "language": "python",
     "metadata": {},
     "outputs": [
      {
       "output_type": "stream",
       "stream": "stdout",
       "text": [
        "Overwriting test_dna.py\n"
       ]
      }
     ],
     "prompt_number": 2
    },
    {
     "cell_type": "markdown",
     "metadata": {},
     "source": [
      "### Run nosetests\n",
      "We would normally run nosetests from the command line, so in IPython we can just call ``!nosetests``."
     ]
    },
    {
     "cell_type": "code",
     "collapsed": false,
     "input": [
      "!nosetests"
     ],
     "language": "python",
     "metadata": {},
     "outputs": [
      {
       "output_type": "stream",
       "stream": "stdout",
       "text": [
        ".\r\n",
        "----------------------------------------------------------------------\r\n",
        "Ran 1 test in 0.015s\r\n",
        "\r\n",
        "OK\r\n"
       ]
      }
     ],
     "prompt_number": 3
    },
    {
     "cell_type": "markdown",
     "metadata": {},
     "source": [
      "Variations\n",
      "----------\n",
      "\n",
      "Fill in the blanks (indicated by _________) in the variations of this example below to achieve the desired test.\n",
      "\n",
      "A. Test a sequence with 100% GC-content"
     ]
    },
    {
     "cell_type": "code",
     "collapsed": false,
     "input": [
      "%%file test_dna.py\n",
      "\n",
      "from dna_analysis import get_gc_content\n",
      "\n",
      "def test_get_gc_content_onehundred():\n",
      "    assert get_gc_content('GGGCCCGCGCG') == _____"
     ],
     "language": "python",
     "metadata": {},
     "outputs": []
    },
    {
     "cell_type": "markdown",
     "metadata": {},
     "source": [
      "B. Test a lower case sequence with 50% GC-content"
     ]
    },
    {
     "cell_type": "code",
     "collapsed": false,
     "input": [
      "%%file test_dna.py\n",
      "\n",
      "from dna_analysis import get_gc_content\n",
      "\n",
      "def test_get_gc_content_lowercase():\n",
      "    assert get_gc_content(___________) == 50"
     ],
     "language": "python",
     "metadata": {},
     "outputs": []
    },
    {
     "cell_type": "markdown",
     "metadata": {},
     "source": [
      "C. Test a mixed case sequence with 75% GC-content"
     ]
    },
    {
     "cell_type": "code",
     "collapsed": false,
     "input": [
      "%%file test_dna.py\n",
      "\n",
      "from dna_analysis import get_gc_content\n",
      "\n",
      "def test_get_gc_content_mixedcase():\n",
      "    assert get_gc_content(__________) == _____"
     ],
     "language": "python",
     "metadata": {},
     "outputs": []
    },
    {
     "cell_type": "markdown",
     "metadata": {},
     "source": [
      "D. Test a sequence with 25% GC-content"
     ]
    },
    {
     "cell_type": "code",
     "collapsed": false,
     "input": [
      "%%file test_dna.py\n",
      "\n",
      "from dna_analysis import get_gc_content\n",
      "\n",
      "def test_get_gc_content_twentyfive():\n",
      "    sequence = ______________\n",
      "    assert get_gc_content(____________) == _____"
     ],
     "language": "python",
     "metadata": {},
     "outputs": []
    },
    {
     "cell_type": "markdown",
     "metadata": {},
     "source": [
      "E. Test a sequence with 10% GC-content"
     ]
    },
    {
     "cell_type": "code",
     "collapsed": false,
     "input": [
      "%%file test_dna.py\n",
      "\n",
      "from dna_analysis import get_gc_content\n",
      "\n",
      "def ____________________():\n",
      "    ____________ get_gc_content('AGTCAATTAT') == 10"
     ],
     "language": "python",
     "metadata": {},
     "outputs": []
    }
   ],
   "metadata": {}
  }
 ]
}